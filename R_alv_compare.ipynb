{
 "metadata": {
  "name": "",
  "signature": "sha256:11d21dd01efc643cd2b4122fc2610c8e931a8310fd21ae215eb26845dc85adb8"
 },
 "nbformat": 3,
 "nbformat_minor": 0,
 "worksheets": [
  {
   "cells": [
    {
     "cell_type": "heading",
     "level": 2,
     "metadata": {},
     "source": [
      "\u041e\u0446\u0435\u043d\u043a\u0430 \u0432\u0435\u043b\u0438\u0447\u0438\u043d\u044b \u0430\u043b\u044c\u0432\u0435\u043d\u043e\u0432\u0441\u043a\u043e\u0433\u043e \u0440\u0430\u0434\u0438\u0443\u0441\u0430 $r_A(\\mu, L_x)$, \u043f\u043e\u043b\u0443\u0447\u0435\u043d\u043d\u0430\u044f \u0434\u043b\u044f \u0434\u0432\u0443\u0445 \u0441\u0446\u0435\u043d\u0430\u0440\u0438\u0435\u0432 \u0430\u043a\u043a\u0440\u0435\u0446\u0438\u0438"
     ]
    },
    {
     "cell_type": "code",
     "collapsed": false,
     "input": [
      "from math import sqrt, pi\n",
      "import numpy as np"
     ],
     "language": "python",
     "metadata": {},
     "outputs": [],
     "prompt_number": 1
    },
    {
     "cell_type": "heading",
     "level": 4,
     "metadata": {},
     "source": [
      "\u0424\u0438\u0437\u0438\u0447\u0435\u0441\u043a\u0438\u0435 \u0432\u0435\u043b\u0438\u0447\u0438\u043d\u044b (\u0441\u0438\u0441\u0442\u0435\u043c\u0430 \u0435\u0434\u0438\u043d\u0438\u0446 - \u0421\u0413\u0421)"
     ]
    },
    {
     "cell_type": "code",
     "collapsed": false,
     "input": [
      "G = 6.674E-8              # gravitational constant [cm * g^-1 * s^-2]\n",
      "c = 2.99792458E10         # speed of light         [cm * s^-1]\n",
      "e_m = 4.803E-10           # electric charge of e-  []\n",
      "m_p = 1.6726218E-24       # mass of proton         [g]\n",
      "k_B = 1.3806488E-16       # Boltzmann constant     [erg * K^-1]\n",
      "\n",
      "M_ns = 1.4 * 2.0E33       # mass of neutron star   [g]\n",
      "R_ns = 1.0E6              # radius of neutron star [cm]\n",
      "I = .4 * M_ns * R_ns**2   # NS's moment of inertia [g * cm^2]"
     ],
     "language": "python",
     "metadata": {},
     "outputs": [],
     "prompt_number": 2
    },
    {
     "cell_type": "code",
     "collapsed": false,
     "input": [
      "class Neutron_star():\n",
      "    def __init__(self, name, Ps, dnu, Lx):\n",
      "        self._name = name\n",
      "        self._Ps = Ps\n",
      "        self._dnu = dnu\n",
      "        self._Lx = Lx\n",
      "    def __str__(self): return \"{:16}{:6}{:10.2E}{:10.0E}\".format(self._name, self._Ps, self._dnu, self._Lx)\n",
      "    def get_name(self): return self._name\n",
      "    def get_Ps(self): return self._Ps\n",
      "    def get_dnu(self): return self._dnu\n",
      "    def get_Lx(self): return self._Lx\n",
      "    def get_dM(self): return self._Lx * R_ns / G / M_ns"
     ],
     "language": "python",
     "metadata": {},
     "outputs": [],
     "prompt_number": 21
    },
    {
     "cell_type": "heading",
     "level": 3,
     "metadata": {},
     "source": [
      "\u0420\u0430\u0434\u0438\u0443\u0441 \u043a\u043e\u0440\u043e\u0442\u0430\u0446\u0438\u0438"
     ]
    },
    {
     "cell_type": "code",
     "collapsed": false,
     "input": [
      "def cor_radius(neutron_star):\n",
      "    Ps = neutron_star.get_Ps()\n",
      "    return pow(G * M_ns / omega(Ps)**2, 1./3) # main arithmetics: r_cor = (G Mns / omega^2) ^ {1/3}"
     ],
     "language": "python",
     "metadata": {},
     "outputs": [],
     "prompt_number": 4
    },
    {
     "cell_type": "heading",
     "level": 3,
     "metadata": {},
     "source": [
      "\u0410\u043b\u044c\u0432\u0435\u043d\u043e\u0432\u0441\u043a\u0438\u0439 \u0440\u0430\u0434\u0438\u0443\u0441"
     ]
    },
    {
     "cell_type": "code",
     "collapsed": false,
     "input": [
      "def alv_radius(neutron_star, suggested_B):\n",
      "    Lx = neutron_star.get_Lx()\n",
      "    B = suggested_B\n",
      "    return pow(mu(B)**2 / dM(Lx) / sqrt(2*G*M_ns), 2./7) # main arithmetics: r_A = [mu^2 / (dM sqrt(2 G Mns))] ^ {2/7}"
     ],
     "language": "python",
     "metadata": {},
     "outputs": [],
     "prompt_number": 5
    },
    {
     "cell_type": "heading",
     "level": 3,
     "metadata": {},
     "source": [
      "\u0412\u0441\u043f\u043e\u043c\u043e\u0433\u0430\u0442\u0435\u043b\u044c\u043d\u044b\u0435 \u0444\u0443\u043d\u043a\u0446\u0438\u0438 \u043f\u0440\u0435\u043e\u0431\u0440\u0430\u0437\u043e\u0432\u0430\u043d\u0438\u044f \u0432\u0435\u043b\u0438\u0447\u0438\u043d"
     ]
    },
    {
     "cell_type": "code",
     "collapsed": false,
     "input": [
      "omega = lambda P: 2 * pi / P\n",
      "dM = lambda L: L * R_ns / G / M_ns\n",
      "mu = lambda B: 0.5 * B * R_ns**3\n",
      "B = lambda mu: 2. * mu / R_ns**3"
     ],
     "language": "python",
     "metadata": {},
     "outputs": [],
     "prompt_number": 6
    },
    {
     "cell_type": "heading",
     "level": 3,
     "metadata": {},
     "source": [
      "\"\u041f\u043e \u041b\u0438\u043f\u0443\u043d\u043e\u0432\u0443\"\n",
      "$$ 2 \\pi I \\dot{\\nu}_{\\rm sd} = k_t \\dfrac{\\mu^2}{r_{\\rm cor}^3} $$\n",
      "$$ \\mu_0 = \\sqrt{\\dfrac{r_{\\rm cor}^3}{{k_t }} \\; 2 \\pi I \\dot{\\nu}_{\\rm sd}} $$"
     ]
    },
    {
     "cell_type": "code",
     "collapsed": false,
     "input": [
      "def mag_field_0(neutron_star):\n",
      "    dnu = neutron_star.get_dnu()\n",
      "    k_t = 1.0\n",
      "    r_cor = cor_radius(neutron_star)\n",
      "    mu_0 = sqrt(r_cor**3 * 2 * pi * I * dnu / k_t) # main arithmetics\n",
      "    return B(mu_0)"
     ],
     "language": "python",
     "metadata": {},
     "outputs": [],
     "prompt_number": 7
    },
    {
     "cell_type": "heading",
     "level": 3,
     "metadata": {},
     "source": [
      "\u0422\u0443\u0440\u0431\u0443\u043b\u0435\u043d\u0442\u043d\u0430\u044f \u043e\u0431\u043e\u043b\u043e\u0447\u043a\u0430\n",
      "$$ 2 \\pi I \\dot{\\nu}_{\\rm sd} = k_t \\dot{\\mathfrak{M}} \\omega_{\\rm s} {r_{\\rm A}^2} $$\n",
      "$$ \\mu_{\\rm T} = \\left( \\dot{\\mathfrak{M}} \\sqrt{2 G M_{\\rm ns}} \\right)^{1/2} \\left( \\dfrac{2 \\pi I \\dot{\\nu}_{\\rm sd} }{k_t \\dot{\\mathfrak{M}} \\omega_{\\rm s}} \\right)^{7/8} $$"
     ]
    },
    {
     "cell_type": "code",
     "collapsed": false,
     "input": [
      "def mag_field_T(neutron_star):\n",
      "    Ps = neutron_star.get_Ps()\n",
      "    dnu = neutron_star.get_dnu()\n",
      "    dM = neutron_star.get_dM()\n",
      "    \n",
      "    k_t = 1.0\n",
      "    mu_T = sqrt(dM * sqrt(2*G*M_ns)) * pow(2 * pi * I * dnu / k_t / dM / omega(Ps), 7./8) # main arithmetics\n",
      "    return B(mu_T)"
     ],
     "language": "python",
     "metadata": {},
     "outputs": [],
     "prompt_number": 8
    },
    {
     "cell_type": "heading",
     "level": 3,
     "metadata": {},
     "source": [
      "\u041f\u0440\u043e\u0432\u0435\u0440\u043a\u0430 \u043d\u0430 \u043f\u0430\u0440\u0430\u043c\u0435\u0442\u0440\u0430\u0445 Vela X-1"
     ]
    },
    {
     "cell_type": "code",
     "collapsed": true,
     "input": [
      "test_star = Neutron_star(\"Vela X-1\", 283.0, 3.0E-13, 4.0E36 )\n",
      "print(test_star)\n",
      "\n",
      "b_0 = mag_field_0(test_star)\n",
      "b_T = mag_field_T(test_star)\n",
      "print(\"B_0 = {:.2E} B_T = {:.2E}\".format(b_0, b_T))\n",
      "\n",
      "r_cor = cor_radius(test_star)\n",
      "r_A_0 = alv_radius(test_star, b_0)\n",
      "r_A_T = alv_radius(test_star, b_T)\n",
      "print(\"r_cor = {:.2E}\\nr_A_0 = {:8.2E} r_cor/r_A_0 = {:.2F}\\nr_A_T = {:8.2E} r_cor/r_A_T = {:.2F}\".format(\\\n",
      "       r_cor, r_A_0, r_cor/r_A_0, r_A_T, r_cor/r_A_T))"
     ],
     "language": "python",
     "metadata": {},
     "outputs": [
      {
       "output_type": "stream",
       "stream": "stdout",
       "text": [
        "Vela X-1         283.0  3.00E-13     4E+36\n",
        "B_0 = 5.66E+13 B_T = 2.67E+13\n",
        "r_cor = 7.24E+09\n",
        "r_A_0 = 3.24E+09 r_cor/r_A_0 = 2.23\n",
        "r_A_T = 2.11E+09 r_cor/r_A_T = 3.43\n"
       ]
      }
     ],
     "prompt_number": 22
    },
    {
     "cell_type": "code",
     "collapsed": false,
     "input": [
      "stars = []\n",
      "stars.append(Neutron_star(\"OAO 1657-415\", 37., 3.0E-12, 3.0E36))\n",
      "stars.append(Neutron_star(\"Vela X-1\", 283., 3.0E-13, 4.0E36))\n",
      "stars.append(Neutron_star(\"4U 1907+09\", 441., 4.0E-14, 2.0E36))\n",
      "stars.append(Neutron_star(\"4U 1538-52\", 525., 2.0E-13, 2.0E36))\n",
      "stars.append(Neutron_star(\"GX 301-2\", 685., 1.0E-13, 1.0E37))\n",
      "stars.append(Neutron_star(\"X Per\", 837., 2.0E-14, 1.0E35))\n",
      "stars.append(Neutron_star(\"4U 0115+634\", 3.6, 1.8E-13, 1.0E34))\n",
      "stars.append(Neutron_star(\"XTE J1946+274\", 15.8, 3.8E-12, 1.0E37))\n",
      "stars.append(Neutron_star(\"1H 2138+579\", 66.2, 4.3E-14, 1.0E34))\n",
      "stars.append(Neutron_star(\"1A 0535+262\", 104., 1.5E-13, 1.4E34))\n",
      "stars.append(Neutron_star(\"4U 2206+54\", 5560., 1.8E-14, 2.0E35))"
     ],
     "language": "python",
     "metadata": {},
     "outputs": [],
     "prompt_number": 10
    },
    {
     "cell_type": "code",
     "collapsed": false,
     "input": [
      "printed_head = \"{:}&{:}&{:}&{:}&{:}&{:}&{:}\\\\\\\\\"\n",
      "head = [\"Source\", \\\n",
      "        \"$B^{0}(\\\\dot{\\\\nu}_{\\\\rm sd})$, G\", \"$r_{\\\\rm A}(B^0)$, cm\", \"$r_{\\\\rm cor}/r_{\\\\rm A}^{0}$\", \\\n",
      "        \"$B^{\\\\rm T}(\\\\dot{\\\\nu}_{\\\\rm sd})$, G\", \"$r_{\\\\rm A}(B^{\\\\rm T})$, cm\", \"$r_{\\\\rm cor}/r_{\\\\rm A}^{\\\\rm T}$\"]\n",
      "print(printed_head.format(*head))\n",
      "for star in stars:\n",
      "    \n",
      "    r_cor = cor_radius(star)\n",
      "    b_0 = mag_field_0(star)\n",
      "    r_A_0 = alv_radius(star, b_0)\n",
      "    b_T = mag_field_T(star)\n",
      "    r_A_T = alv_radius(star, b_T)\n",
      "    \n",
      "    printed_data = \"{:16}&{:10.2E}&{:10.2E}&{:6.2F}&{:10.2E}&{:10.2E}&{:6.2F}\\\\\\\\\"\n",
      "    data = [star.get_name(), b_0, r_A_0, r_cor/r_A_0, b_T, r_A_T, r_cor/r_A_T]\n",
      "    print(printed_data.format(*data))"
     ],
     "language": "python",
     "metadata": {},
     "outputs": [
      {
       "output_type": "stream",
       "stream": "stdout",
       "text": [
        "Source&$B^{0}(\\dot{\\nu}_{\\rm sd})$, G&$r_{\\rm A}(B^0)$, cm&$r_{\\rm cor}/r_{\\rm A}^{0}$&$B^{\\rm T}(\\dot{\\nu}_{\\rm sd})$, G&$r_{\\rm A}(B^{\\rm T})$, cm&$r_{\\rm cor}/r_{\\rm A}^{\\rm T}$\\\\\n",
        "OAO 1657-415    &  2.34E+13&  2.12E+09&  0.88&  3.76E+13&  2.78E+09&  0.67\\\\\n",
        "Vela X-1        &  5.66E+13&  3.24E+09&  2.23&  2.67E+13&  2.11E+09&  3.43\\\\\n",
        "4U 1907+09      &  3.22E+13&  2.86E+09&  3.40&  8.75E+12&  1.36E+09&  7.16\\\\\n",
        "4U 1538-52      &  8.57E+13&  5.01E+09&  2.18&  4.17E+13&  3.31E+09&  3.30\\\\\n",
        "GX 301-2        &  7.91E+13&  3.02E+09&  4.32&  1.57E+13&  1.20E+09& 10.90\\\\\n",
        "X Per           &  4.32E+13&  7.97E+09&  1.87&  2.57E+13&  5.92E+09&  2.52\\\\\n",
        "4U 0115+634     &  5.58E+11&  1.28E+09&  0.31&  3.54E+12&  3.68E+09&  0.11\\\\\n",
        "XTE J1946+274   &  1.12E+13&  9.90E+08&  1.07&  1.40E+13&  1.12E+09&  0.94\\\\\n",
        "1H 2138+579     &  5.01E+12&  4.49E+09&  0.61&  1.29E+13&  7.72E+09&  0.36\\\\\n",
        "1A 0535+262     &  1.47E+13&  7.55E+09&  0.49&  5.05E+13&  1.53E+10&  0.24\\\\\n",
        "4U 2206+54      &  2.72E+14&  1.87E+10&  2.82&  9.47E+13&  1.02E+10&  5.15\\\\\n"
       ]
      }
     ],
     "prompt_number": 23
    }
   ],
   "metadata": {}
  }
 ]
}