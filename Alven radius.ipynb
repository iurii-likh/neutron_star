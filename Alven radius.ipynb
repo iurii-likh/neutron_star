{
 "metadata": {
  "name": "",
  "signature": "sha256:66e279d8b8d47b2d227f8dfb02f68328703f3a67d09ba8f599f04efacde25a3e"
 },
 "nbformat": 3,
 "nbformat_minor": 0,
 "worksheets": [
  {
   "cells": [
    {
     "cell_type": "heading",
     "level": 1,
     "metadata": {},
     "source": [
      "Counting alven radius"
     ]
    },
    {
     "cell_type": "code",
     "collapsed": false,
     "input": [
      "from math import sqrt, pi\n",
      "import numpy as np\n",
      "\n",
      "%matplotlib inline\n",
      "import matplotlib.pyplot as plt"
     ],
     "language": "python",
     "metadata": {},
     "outputs": [],
     "prompt_number": 1
    },
    {
     "cell_type": "heading",
     "level": 4,
     "metadata": {},
     "source": [
      "Physical constants. Unit system is CGS"
     ]
    },
    {
     "cell_type": "code",
     "collapsed": true,
     "input": [
      "G = 6.67E-8\n",
      "M_ns = 2.8E33\n",
      "R_ns = 1.0E6"
     ],
     "language": "python",
     "metadata": {},
     "outputs": [],
     "prompt_number": 2
    },
    {
     "cell_type": "code",
     "collapsed": true,
     "input": [
      "class neutron_star():\n",
      "    def __init__(self, name, Ps, Bcrsf, Lx):\n",
      "        self._name = name\n",
      "        self._Ps = Ps\n",
      "        self._Lx = Lx\n",
      "        self._Bcrsf = Bcrsf\n",
      "    def __str__(self): return \"{:16}{:6}{:10.2E}{:10.2E}\".format(self._name, self._Ps, self._Bcrsf, self._Lx)\n",
      "    def get_name(self): return self._name\n",
      "    def get_Ps(self): return self._Ps\n",
      "    def get_Bcrsf(self): return self._Bcrsf\n",
      "    def get_Lx(self): return self._Lx"
     ],
     "language": "python",
     "metadata": {},
     "outputs": [],
     "prompt_number": 3
    },
    {
     "cell_type": "code",
     "collapsed": true,
     "input": [
      "mu = lambda(B): 0.5 * B * R_ns**3\n",
      "dM = lambda(L): L * R_ns / G / M_ns\n",
      "\n",
      "def alv_radius(neutron_star):\n",
      "    B = neutron_star.get_Bcrsf()\n",
      "    L = neutron_star.get_Lx()\n",
      "    return pow(mu(B)**2 / dM(L) / sqrt(2*G*M_ns), 2./7)"
     ],
     "language": "python",
     "metadata": {},
     "outputs": [],
     "prompt_number": 4
    },
    {
     "cell_type": "code",
     "collapsed": true,
     "input": [
      "omega = lambda(P): 2 * pi / P\n",
      "\n",
      "def cor_radius(neutron_star):\n",
      "    P = neutron_star.get_Ps()\n",
      "    return pow(G * M_ns / omega(P)**2, 1./3)"
     ],
     "language": "python",
     "metadata": {},
     "outputs": [],
     "prompt_number": 5
    },
    {
     "cell_type": "code",
     "collapsed": false,
     "input": [
      "test_star = neutron_star(\"Vela X-1\", 283.0, 2.6E12, 6.0E36 )\n",
      "print(test_star)"
     ],
     "language": "python",
     "metadata": {},
     "outputs": [
      {
       "output_type": "stream",
       "stream": "stdout",
       "text": [
        "Vela X-1         283.0  2.60E+12  6.00E+36\n"
       ]
      }
     ],
     "prompt_number": 6
    },
    {
     "cell_type": "code",
     "collapsed": true,
     "input": [
      "r_A = alv_radius(test_star)\n",
      "r_c = cor_radius(test_star)\n",
      "result = \"r_A={0:.2E} cm, r_c={1:.2E} cm\".format(r_A, r_c)\n",
      "print(result)"
     ],
     "language": "python",
     "metadata": {},
     "outputs": [
      {
       "output_type": "stream",
       "stream": "stdout",
       "text": [
        "r_A=4.96E+08 cm, r_c=7.24E+09 cm\n"
       ]
      }
     ],
     "prompt_number": 7
    },
    {
     "cell_type": "code",
     "collapsed": false,
     "input": [
      "plt.loglog(r_c, r_A, 'o')\n",
      "plt.xlabel('r$_{cor}$, cm')\n",
      "plt.ylabel('r$_{A}$, cm')"
     ],
     "language": "python",
     "metadata": {},
     "outputs": [
      {
       "metadata": {},
       "output_type": "pyout",
       "prompt_number": 8,
       "text": [
        "<matplotlib.text.Text at 0x2846310>"
       ]
      },
      {
       "metadata": {},
       "output_type": "display_data",
       "png": "[encoded data removed]",
       "text": [
        "<matplotlib.figure.Figure at 0x283ca50>"
       ]
      }
     ],
     "prompt_number": 8
    }
   ],
   "metadata": {}
  }
 ]
}